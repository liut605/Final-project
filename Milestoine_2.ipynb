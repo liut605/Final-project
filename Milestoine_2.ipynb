{
 "cells": [
  {
   "cell_type": "code",
   "execution_count": null,
   "metadata": {},
   "outputs": [],
   "source": [
    "!brew install wget\n",
    "!wget -q https://raw.githubusercontent.com/italha-d/Stress-Predict-Dataset/refs/heads/main/Processed_data/Improved_All_Combined_hr_rsp_binary.csv\n",
    "import pandas as pd"
   ]
  },
  {
   "cell_type": "code",
   "execution_count": null,
   "metadata": {},
   "outputs": [],
   "source": [
    "#data cleaning\n",
    "data = pd.read_csv('Improved_All_Combined_hr_rsp_binary.csv')\n",
    "display(data)\n",
    "display(data[[\"HR\", \"respr\", \"Label\"]].describe()) #unmatched counts\n",
    "display(data[data[\"HR\"].isna()])\n",
    "processed_data = data.dropna()\n",
    "display(processed_data)"
   ]
  },
  {
   "cell_type": "code",
   "execution_count": null,
   "metadata": {},
   "outputs": [],
   "source": [
    "#normalizing\n",
    "from sklearn.preprocessing import StandardScaler\n",
    "\n",
    "scaler = StandardScaler()\n",
    "scaled = scaler.fit_transform(processed_data[[\"HR\", \"respr\"]])"
   ]
  },
  {
   "cell_type": "code",
   "execution_count": null,
   "metadata": {},
   "outputs": [],
   "source": [
    "# vizualize Heart Rate vs. Respiration Rate by Stress Label\n",
    "import matplotlib.pyplot as plt \n",
    "no_stress = processed_data[processed_data['Label'] == 0]\n",
    "stress = processed_data[processed_data['Label'] == 1]\n",
    "\n",
    "# Plot\n",
    "plt.figure(figsize=(10, 6))\n",
    "plt.scatter(no_stress['HR'], no_stress['respr'], color='green', alpha=0.1, label='No Stress (0)', s=1)\n",
    "plt.scatter(stress['HR'], stress['respr'], color='red', alpha=0.1, label='Stress (1)', s=1)\n",
    "\n",
    "plt.title('Heart Rate vs. Respiration Rate by Stress Label')\n",
    "plt.xlabel('Heart Rate (HR)')\n",
    "plt.ylabel('Respiration Rate (respr)')\n",
    "plt.legend()\n",
    "plt.show()\n",
    "\n",
    "display(no_stress[[\"HR\", \"respr\"]].corr())\n",
    "display(stress[[\"HR\", \"respr\"]].corr())"
   ]
  },
  {
   "cell_type": "code",
   "execution_count": null,
   "metadata": {},
   "outputs": [],
   "source": [
    "# vizualize three paticipants: Heart Rate over Time by Stress Label\n",
    "import matplotlib.pyplot as plt\n",
    "\n",
    "chosen_participants= [2, 35, 17]\n",
    "\n",
    "for i in chosen_participants:\n",
    "    participant = processed_data[processed_data[\"Participant\"] == i]\n",
    "    \n",
    "    plt.title(f\"Participant {i} - Heart Rate over Time by Stress Label\")\n",
    "    \n",
    "    no_stress = participant[participant[\"Label\"] == 0]\n",
    "    stress = participant[participant[\"Label\"] == 1]\n",
    "    plt.plot(no_stress[\"Time(sec)\"], no_stress[\"HR\"], label=\"No Stress\", color='green', alpha=0.5)\n",
    "    plt.plot(stress[\"Time(sec)\"], stress[\"HR\"], label=\"Stress\", color='red', alpha=0.5)\n",
    "    \n",
    "    plt.xlabel(\"Time (sec)\")\n",
    "    plt.ylabel(\"Heart Rate (HR)\")\n",
    "    plt.legend()\n",
    "    plt.show()\n"
   ]
  }
 ],
 "metadata": {
  "kernelspec": {
   "display_name": "base",
   "language": "python",
   "name": "python3"
  },
  "language_info": {
   "codemirror_mode": {
    "name": "ipython",
    "version": 3
   },
   "file_extension": ".py",
   "mimetype": "text/x-python",
   "name": "python",
   "nbconvert_exporter": "python",
   "pygments_lexer": "ipython3",
   "version": "3.12.7"
  }
 },
 "nbformat": 4,
 "nbformat_minor": 2
}
